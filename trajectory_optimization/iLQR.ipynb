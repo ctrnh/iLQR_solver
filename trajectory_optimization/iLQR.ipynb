{
 "cells": [
  {
   "cell_type": "code",
   "execution_count": 779,
   "metadata": {},
   "outputs": [],
   "source": [
    "import numpy as np\n",
    "import matplotlib.pyplot as plt\n",
    "import scipy.integrate as integrate\n",
    "import matplotlib.animation as animation\n",
    "from time import time\n"
   ]
  },
  {
   "cell_type": "markdown",
   "metadata": {},
   "source": [
    "# LQR classes"
   ]
  },
  {
   "cell_type": "markdown",
   "metadata": {},
   "source": [
    "## Dynamics"
   ]
  },
  {
   "cell_type": "code",
   "execution_count": 780,
   "metadata": {},
   "outputs": [],
   "source": [
    "class Dynamics:\n",
    "    def __init__(self, state_dim, u_dim):\n",
    "        self.state_dim = state_dim\n",
    "        self.u_dim = u_dim\n",
    "        \n",
    "    def f(self,x,u):\n",
    "        \"\"\"\n",
    "        x_{k+1} = self.f(x_k,u_k)\n",
    "        \"\"\"\n",
    "        raise NotImplementedError \n",
    "    \n",
    "    def df_dx(self, x, u):\n",
    "        \"\"\"\n",
    "        Jacobian of f wrt x \n",
    "        \"\"\"\n",
    "        eps=1e-4\n",
    "        \n",
    "        Jac_x = np.zeros((self.state_dim, self.state_dim))\n",
    "        for i in range(self.state_dim):\n",
    "            x_h = x.copy().astype(float)\n",
    "            x_h[i][0] += eps\n",
    "            Jac_x[:,i] = (self.f(x_h,u) - self.f(x,u)).flatten()\n",
    "        \n",
    "        Jac_x /= eps\n",
    "        return Jac_x\n",
    "    \n",
    "    def df_du(self, x, u):\n",
    "        \"\"\"\n",
    "        Jacobian of f wrt u\n",
    "        \"\"\"\n",
    "        eps=1e-4\n",
    "        Jac_u = np.zeros((self.state_dim, self.u_dim))\n",
    "        for i in range(self.u_dim):\n",
    "            u_h = u.copy().astype(float)\n",
    "            u_h[i][0] += eps\n",
    "            Jac_u[:,i] = (self.f(x,u_h) - self.f(x,u)).flatten()\n",
    "        Jac_u /= eps\n",
    "        return Jac_u\n",
    "\n",
    "    def test_df_dx(self, x, u):\n",
    "        \"\"\"\n",
    "        Same as df_dx. But df_dx can be overriden. Jacobian of f wrt x \n",
    "        \"\"\"\n",
    "        eps=1e-4\n",
    "        \n",
    "        Jac_x = np.zeros((self.state_dim, self.state_dim))\n",
    "        for i in range(self.state_dim):\n",
    "            x_h = x.copy().astype(float)\n",
    "            x_h[i][0] =  x_h[i][0] + eps\n",
    "            Jac_x[:,i] = (self.f(x_h,u) - self.f(x,u)).flatten()\n",
    "        Jac_x /= eps\n",
    "        return Jac_x\n",
    "    \n",
    "    def test_df_du(self, x, u):\n",
    "        \"\"\"\n",
    "        Jacobian of f wrt u\n",
    "        \"\"\"\n",
    "        eps=1e-4\n",
    "        Jac_u = np.zeros((self.state_dim, self.u_dim))\n",
    "        for i in range(self.u_dim):\n",
    "            u_h = u.copy().astype(float)\n",
    "            u_h[i][0] += eps\n",
    "            Jac_u[:,i] = (self.f(x,u_h) - self.f(x,u)).flatten()\n",
    "        Jac_u /= eps\n",
    "        return Jac_u"
   ]
  },
  {
   "cell_type": "code",
   "execution_count": 781,
   "metadata": {},
   "outputs": [],
   "source": [
    "class LinearDynamics(Dynamics):\n",
    "    def __init__(self, A, B):\n",
    "        self.A = A\n",
    "        self.B = B\n",
    "        \n",
    "        self.state_dim = self.A.shape[1]\n",
    "        self.u_dim = self.B.shape[1]\n",
    "        assert self.B.shape[0] == self.state_dim\n",
    "    \n",
    "    def f(self,x,u):\n",
    "        return self.A.dot(x) + self.B.dot(u)\n",
    "      \n",
    "    def df_dx(self, x, u):\n",
    "        return self.A\n",
    "    \n",
    "    def df_du(self, x, u):\n",
    "        return self.B"
   ]
  },
  {
   "cell_type": "code",
   "execution_count": 782,
   "metadata": {},
   "outputs": [],
   "source": [
    "def test_LinearDynamics():\n",
    "    A = np.arange(9).reshape(3,3)\n",
    "    B = np.arange(6).reshape(3,2)\n",
    "    test = LinearDynamics(A=A,B=B)\n",
    "    x = np.array([[2],\n",
    "                 [-1],\n",
    "                 [0]])\n",
    "    u = np.array([[1],\n",
    "                 [2]])\n",
    "    assert np.sum(np.abs(test.f(x,u) - np.array([[1],[10],[19]]))) <= 1e-4\n",
    "    assert np.sum(np.abs(test.df_dx(x,u) - test.test_df_dx(x,u))) <= 1e-4\n",
    "    assert np.sum(np.abs(test.df_du(x,u) - test.test_df_du(x,u))) <= 1e-4\n",
    "            \n",
    "test_LinearDynamics()"
   ]
  },
  {
   "cell_type": "markdown",
   "metadata": {},
   "source": [
    "## Cost"
   ]
  },
  {
   "cell_type": "code",
   "execution_count": 783,
   "metadata": {},
   "outputs": [],
   "source": [
    "class Cost:\n",
    "    def __init__(self, goal, N, u_goal):\n",
    "        self.N = N\n",
    "        self.goal = goal\n",
    "        self.u_goal = u_goal\n",
    "    \n",
    "    def loss(self, x, u, k):\n",
    "        raise NotImplementedError\n",
    "    \n",
    "    def l_x(self, x, k=None, u=None):\n",
    "        raise NotImplementedError\n",
    "    \n",
    "    def l_u(self, u, k=None, x=None):\n",
    "        raise NotImplementedError\n",
    "    \n",
    "    def l_xx(self, x=None, u=None, k=None):\n",
    "        raise NotImplementedError\n",
    "    \n",
    "    def l_uu(self, x=None, u=None, k=None):\n",
    "        raise NotImplementedError\n",
    "    \n",
    "    def l_xu(self, x=None, u=None, k=None):\n",
    "        raise NotImplementedError\n",
    "    \n",
    "    def l_ux(self, x=None, u=None, k=None):\n",
    "        raise NotImplementedError\n",
    "    "
   ]
  },
  {
   "cell_type": "code",
   "execution_count": 784,
   "metadata": {
    "code_folding": [
     23,
     27
    ]
   },
   "outputs": [],
   "source": [
    "class QuadraticCost(Cost):\n",
    "    def __init__(self, dt, N, goal, Q, R, Qf=None, H=None, u_goal=None):\n",
    "        super().__init__(goal=goal, N=N, u_goal=u_goal)\n",
    "        self.dt = dt\n",
    "        self._Q = Q\n",
    "        self.R = R\n",
    "        \n",
    "        self.Qf = Qf\n",
    "        if self.Qf is None:\n",
    "            self.Qf = self.Q\n",
    "        \n",
    "        \n",
    "        self.state_dim = self.Q.shape[0]\n",
    "        self.u_dim = self.R.shape[0]\n",
    "        \n",
    "        self.H = H\n",
    "        if self.H is None:\n",
    "            self.H = np.zeros((self.state_dim, self.u_dim))\n",
    "        if self.u_goal is None:\n",
    "            self.u_goal = np.zeros((self.u_dim,1))\n",
    "        \n",
    "        \n",
    "    @property\n",
    "    def Q(self):\n",
    "        return self._Q\n",
    "    \n",
    "    @Q.setter\n",
    "    def Q(self, new_Q):\n",
    "        assert new_Q.shape[0] == new_Q.shape[0] == self.goal.shape[0]\n",
    "        self._Q = new_Q\n",
    "    \n",
    "    def loss(self, x, u, k):\n",
    "        assert k <= self.N\n",
    "        if k<self.N:\n",
    "            assert u.shape == self.u_goal.shape, \"u: \"+str(u.shape) +\", ugoal: \" + str(self.u_goal.shape)\n",
    "        if k == self.N:\n",
    "            l = (1/2)*(x-self.goal).T.dot(self.Qf).dot(x-self.goal) \n",
    "            return float(l) #final cost: do not multiply by dt\n",
    "\n",
    "        l = (1/2)*(x-self.goal).T.dot(self.Q).dot(x-self.goal) \n",
    "        l += (1/2)*(u-self.u_goal).T.dot(self.R).dot(u-self.u_goal)\n",
    "        l += x.T.dot(self.H).dot(u) +  u.T.dot(self.H.T).dot(x)    \n",
    "        return float(l)*self.dt\n",
    "        \n",
    "        \n",
    "    def l_x(self, x,  u, k):\n",
    "        \"\"\" \n",
    "        Derivative of loss wrt x (dl/dx)\n",
    "        col vector size x_dim\n",
    "        \"\"\"\n",
    "        assert k <= self.N\n",
    "        assert x.shape[0] == self.state_dim\n",
    "        if k == self.N:\n",
    "            lx = self.Qf.dot(x-self.goal)\n",
    "            return lx\n",
    "\n",
    "        lx = self.Q.dot(x - self.goal)\n",
    "        lx += self.H.dot(u)\n",
    "\n",
    "        assert lx.shape[1] == 1\n",
    "        assert lx.shape[0] == self.state_dim\n",
    "        \n",
    "        return lx*self.dt\n",
    "    \n",
    "    \n",
    "    def l_u(self, x, u, k):\n",
    "        \"\"\" column vector size u_dim \"\"\"\n",
    "        assert k < self.N\n",
    "        assert u.shape[0] == self.u_dim\n",
    "        lu = self.R.dot(u - self.u_goal)\n",
    "        lu += self.H.T.dot(x)\n",
    "            \n",
    "        assert lu.shape[1] == 1\n",
    "        assert lu.shape[0] == self.u_dim\n",
    "        return lu*self.dt\n",
    "    \n",
    "    def l_xx(self, x, u, k):\n",
    "        if k == self.N:\n",
    "            return self.Qf\n",
    "        lxx = self.Q\n",
    "        return lxx*self.dt\n",
    "    \n",
    "    def l_uu(self, x, u, k):\n",
    "        assert k < self.N\n",
    "        return self.R*self.dt\n",
    "    \n",
    "    def l_xu(self, x, u, k):\n",
    "        assert k < self.N\n",
    "        return self.H*self.dt\n",
    "    \n",
    "    def l_ux(self, x, u, k):\n",
    "        assert k < self.N\n",
    "        return self.H.T*self.dt"
   ]
  },
  {
   "cell_type": "code",
   "execution_count": 785,
   "metadata": {
    "code_folding": [],
    "scrolled": true
   },
   "outputs": [],
   "source": [
    "# TEST\n",
    "def test_QuadraticCost():\n",
    "    dt = 0.01\n",
    "    N = 100\n",
    "    x = np.array([[2],[-1],[0]])\n",
    "    xf = np.array([[1],[0],[1]])\n",
    "\n",
    "    u = np.array([[2],[1]])\n",
    "\n",
    "    Q = 2*np.eye(3)\n",
    "    R = np.eye(2)\n",
    "    Qf = 10*np.eye(3)\n",
    "    H = None\n",
    "    u_goal = None\n",
    "\n",
    "\n",
    "\n",
    "    q = QuadraticCost(dt=dt, N=N,\n",
    "                      goal=xf,\n",
    "                      Q=Q, R=R, Qf=Qf, H=H, u_goal=u_goal)\n",
    "    k = np.random.randint(N)\n",
    "    assert q.loss(x=x,u=u,k=k) == 11*dt/2\n",
    "    assert q.loss(x=x,u=u,k=N) == 15, q.loss(x=x,u=u,k=N) \n",
    "    \n",
    "    dl_dx = np.array([[2],[-2],[-2]])*dt\n",
    "    assert (q.l_x(x=x,u=u,k=k) - dl_dx).all() <= 1e-3\n",
    "    assert (q.l_xx(x=x,u=u,k=k) - Q).all() <= 1e-3\n",
    "    assert (q.l_u(x=x,u=u,k=k) - u*dt).all() <= 1e-3\n",
    "    assert (q.l_uu(x=x,u=u,k=k) - R).all() <= 1e-3\n",
    "    \n",
    "    assert (np.sum(np.abs(q.l_ux(x=x,u=u,k=k))) == 0)\n",
    "    assert (np.sum(np.abs(q.l_xu(x=x,u=u,k=k))) == 0)\n",
    "    \n",
    "    \n",
    "    # Same cost when tf is same\n",
    "    c = 0\n",
    "    for i in range(N+1):\n",
    "        c += q.loss(x,u,i)\n",
    "\n",
    "\n",
    "    dt = 0.1\n",
    "    N = 10\n",
    "\n",
    "    q2 = QuadraticCost(dt=dt, N=N,\n",
    "                      goal=xf,\n",
    "                      Q=Q, R=R, Qf=Qf, H=H, u_goal=u_goal)\n",
    "\n",
    "    d = 0\n",
    "    for i in range(N+1):\n",
    "        d += q2.loss(x,u,i)\n",
    "\n",
    "    assert np.abs(c - d) <= 1e-2 , str(c) + \" \" +str(d)\n",
    "test_QuadraticCost()"
   ]
  },
  {
   "cell_type": "markdown",
   "metadata": {},
   "source": [
    "## Problem"
   ]
  },
  {
   "cell_type": "code",
   "execution_count": 129,
   "metadata": {
    "code_folding": []
   },
   "outputs": [],
   "source": [
    "class Problem:\n",
    "    def __init__(self, \n",
    "                 dynamics, \n",
    "                 cost,\n",
    "                 dt,\n",
    "                 x0,\n",
    "                 ):\n",
    "        self.N = cost.N\n",
    "        self.dt = cost.dt\n",
    "        self.tf = N*dt\n",
    "        \n",
    "        self.dyn = dynamics\n",
    "        self.cost = cost\n",
    "        self.x0 = x0\n",
    "        \n",
    "        assert self.x0.shape[0] == self.dyn.state_dim\n",
    "        assert self.x0.shape[1] == 1\n",
    "        \n",
    "        \n",
    "        if \"state_dim\" in self.cost.__dict__:\n",
    "            assert self.dyn.u_dim == self.cost.u_dim\n",
    "            assert self.dyn.state_dim == self.cost.state_dim"
   ]
  },
  {
   "cell_type": "markdown",
   "metadata": {},
   "source": [
    "## Solver"
   ]
  },
  {
   "cell_type": "code",
   "execution_count": 130,
   "metadata": {
    "code_folding": [
     8,
     17,
     34
    ]
   },
   "outputs": [],
   "source": [
    "class Solver:\n",
    "    def __init__(self, problem):\n",
    "        self.LP = problem\n",
    "        self.solved = False\n",
    "        self.x = [None for i in range(self.LP.N + 1)] #(x_0,... , x_N-1, x_N)\n",
    "        self.u = [None for i in range(self.LP.N)] # (u_0, ..., u_N-1)\n",
    "        self.J = [None for i in range(self.LP.N + 1)] # Cum loss (J_0, ..., J_N)\n",
    "    \n",
    "    def plot_loss(self):\n",
    "        if self.solved:\n",
    "            plt.plot(self.J, label=\"Cum loss\")\n",
    "            plt.title(\"Loss wrt iterations\")\n",
    "            plt.grid()\n",
    "            plt.legend()\n",
    "        else:\n",
    "            \"Solve first\"\n",
    "    \n",
    "    def plot_u(self):\n",
    "        if not self.solved:\n",
    "            \"Solve first\"\n",
    "        else:\n",
    "            u_dim = self.LP.dyn.u_dim\n",
    "            for i in range(u_dim):\n",
    "                if u_dim == 1:\n",
    "                    u_i = [float(self.u[t]) for t in range(self.LP.N)]\n",
    "                    plt.plot(u_i, label=f\"u\")\n",
    "                else:\n",
    "                    u_i = [float(self.u[t][i]) for t in range(self.LP.N)]\n",
    "                    \n",
    "                    plt.plot(u_i, label=f\"u_{i}\")\n",
    "                plt.legend()\n",
    "            plt.grid()\n",
    "            plt.title(\"Control u wrt iterations\")\n",
    "            \n",
    "    def plot_x(self, idx=None):\n",
    "        if not self.solved:\n",
    "            \"Solve first\"\n",
    "        else:\n",
    "            xf = self.LP.cost.goal\n",
    "            x_dim = self.LP.dyn.state_dim\n",
    "            if idx is None:\n",
    "                idx = np.arange(x_dim)\n",
    "            for i in range(x_dim):\n",
    "                if x_dim == 1:\n",
    "                    plt.plot(self.x, label=f\"x\")\n",
    "                    plt.plot(xf*np.ones(self.LP.N+1), \"k--\", label=f'xf at N')\n",
    "                else:\n",
    "                    if i in idx:\n",
    "                        plt.plot(xf[i]*np.ones(self.LP.N+1), \"k--\")#, label=f'xf_{i} at N')\n",
    "                        x_i = [self.x[t][i] for t in range(self.LP.N+1)]\n",
    "                        plt.plot(x_i, label=f\"x_{i}\")\n",
    "                plt.legend()\n",
    "            plt.grid()\n",
    "            plt.title(f\"x, goal:{self.LP.cost.goal}\")\n",
    "    "
   ]
  },
  {
   "cell_type": "markdown",
   "metadata": {},
   "source": [
    "### LQR"
   ]
  },
  {
   "cell_type": "code",
   "execution_count": 131,
   "metadata": {
    "code_folding": [
     0
    ]
   },
   "outputs": [],
   "source": [
    "class LQR(Solver):\n",
    "    def __init__(self, LinearProblem):\n",
    "        super().__init__(LinearProblem)\n",
    "    \n",
    "    def init(self):\n",
    "        self.J_star = [None for i in range(self.LP.N + 1)]\n",
    "        \n",
    "        self.V = [None for i in range(self.LP.N + 1)]\n",
    "        self.W = [None for i in range(self.LP.N + 1)]\n",
    "        \n",
    "        \n",
    "        self.H = [self.LP.cost.hess_l1(self.goal(i), i) for i in range(self.LP.N + 1)]\n",
    "        self.G = [self.LP.cost.grad_l1(self.goal(i), i) for i in range(self.LP.N + 1)]\n",
    "\n",
    "        self.L = [None for i in range(self.LP.N)]\n",
    "        \n",
    "    \n",
    "    def goal(self, n):\n",
    "        if self.LP.cost.unique_goal:\n",
    "            return self.LP.cost.goal\n",
    "        return self.LP.cost.goal[n]\n",
    "        \n",
    "    def backward(self):\n",
    "        N = self.LP.N\n",
    "        R = self.LP.cost.R\n",
    "        A = self.LP.dyn.A\n",
    "        B = self.LP.dyn.B\n",
    "        \n",
    "        self.V[N] = (1/2) * self.H[N]\n",
    "        self.W[N] = self.G[N] - self.H[N].dot(self.goal(N))\n",
    "        \n",
    "        \n",
    "        for i in range(self.LP.N, 0, -1):\n",
    "            tmp = A.T.dot(self.V[i]).dot(B)\n",
    "            tmp2 = np.linalg.inv(R+B.T.dot(self.V[i]).dot(B))\n",
    "            self.V[i-1] = .5 * self.H[i-1] - tmp.dot(tmp2).dot(tmp.T) + A.T.dot(self.V[i]).dot(A)\n",
    "            \n",
    "            self.W[i-1] = self.G[i-1] - self.H[i-1].T.dot(self.goal(i-1)) + A.T.dot(self.W[i]) \\\n",
    "            - tmp.dot(tmp2).dot(B.T.dot(self.W[i]))\n",
    "            \n",
    "    def forward(self):\n",
    "        \"\"\"\n",
    "        Compute lqr controls u, states x, J_star        \n",
    "        \"\"\"\n",
    "        R = self.LP.cost.R\n",
    "        A = self.LP.dyn.A\n",
    "        B = self.LP.dyn.B\n",
    "        \n",
    "        x = self.LP.x0\n",
    "        self.x[0] = x\n",
    "        for i in range(self.LP.N):\n",
    "            u = - np.linalg.inv(R+B.T.dot(self.V[i+1]).dot(B)).dot(.5*B.T.dot(self.W[i+1]) \\\n",
    "                                                           + B.T.dot(self.V[i+1]).dot(A).dot(x))\n",
    "            if self.LP.dyn.u_dim == 1:\n",
    "                self.u[i] = float(u)\n",
    "            else:\n",
    "                self.u[i] = u                \n",
    "            self.J_star[i] = float(x.T.dot(self.V[i]).dot(x) + self.W[i].T.dot(x)) #up to constant\n",
    "            \n",
    "            if i == 0:\n",
    "                self.J[i] =  self.LP.cost.loss(x, u, i)\n",
    "            else:\n",
    "                self.J[i] = self.J[i-1] + self.LP.cost.loss(x, u, i)\n",
    "            x = self.LP.dyn.next_state(x, u)\n",
    "            self.x[i+1] = x\n",
    "            \n",
    "        self.J[self.LP.N] = self.J[self.LP.N-1] + self.LP.cost.loss(x, 0, self.LP.N)\n",
    "            \n",
    "        self.J_star[self.LP.N] = float(x.T.dot(self.V[self.LP.N]).dot(x) \\\n",
    "                                       + self.W[self.LP.N].T.dot(x)) #up to constant\n",
    "            \n",
    "    def solve(self):\n",
    "        self.init()\n",
    "        self.backward()\n",
    "        self.forward()\n",
    "        self.solved = True\n",
    "        print(\"Last Loss: \", self.J_star[-1])\n",
    "    \n"
   ]
  },
  {
   "cell_type": "markdown",
   "metadata": {},
   "source": [
    "### iLQR "
   ]
  },
  {
   "cell_type": "code",
   "execution_count": 1008,
   "metadata": {
    "code_folding": []
   },
   "outputs": [],
   "source": [
    "class iLQR(Solver):\n",
    "    def __init__(self,\n",
    "                 problem,\n",
    "                 n_traj,\n",
    "                 u_init,\n",
    "                 alpha_init=1,\n",
    "                 crit_alpha=1e-1,\n",
    "                rho_reg=0,\n",
    "                beta=[1e-4,10],\n",
    "                gamma=.5,\n",
    "                alpha_min=1e-3):\n",
    "        \"\"\"\n",
    "        n_traj (int) : number of trajectories\n",
    "        u_init (list[float]) : sequence of controls (N elements)\n",
    "        \n",
    "        \"\"\"\n",
    "        \n",
    "        super().__init__(problem)\n",
    "        self.n_traj = n_traj\n",
    "        self.u_init = u_init\n",
    "        \n",
    "        \n",
    "        self.rho_reg = rho_reg\n",
    "        \n",
    "        # Line search param\n",
    "        self.alpha_init = alpha_init\n",
    "        self.alpha = alpha_init\n",
    "        self.crit_alpha = crit_alpha\n",
    "        self.alpha_min = alpha_min\n",
    "        \n",
    "        self.gamma = gamma\n",
    "        self.beta = beta\n",
    "        assert len(self.u_init) == self.LP.N\n",
    "        assert self.u_init[0].shape[1] == 1\n",
    "        assert self.u_init[0].shape[0] == self.LP.dyn.u_dim\n",
    "    \n",
    "    def reset(self):\n",
    "        #self.V = [None for i in range(self.LP.N + 1)] # \"S_k\"\n",
    "        #self.w = [None for i in range(self.LP.N + 1)] # \"s_k\"\n",
    "        \n",
    "        self.K = [None for i in range(self.LP.N)] # (K_0, ..., K_N-1) for each u_k\n",
    "        self.d = [None for i in range(self.LP.N)]\n",
    "        self.cond_nb = []\n",
    "        self.expected_cost = [None for i in range(self.LP.N)]\n",
    "        self.J = [None for i in range(self.LP.N+1)]\n",
    "        #self.du = [None for i in range(self.LP.N)]\n",
    "        #self.dx =  [None for i in range(self.LP.N +1)]\n",
    "        #self.dx[0] = np.zeros_like(self.LP.x0)\n",
    "        \n",
    "    def backward(self):\n",
    "        #self.reset()\n",
    "        \n",
    "        #self.w[self.LP.N] = self.LP.cost.l_x(x=self.x[self.LP.N],u=None, k=self.LP.N)\n",
    "        #self.V[self.LP.N] = self.LP.cost.l_xx(x=self.x[self.LP.N],u=None, k=self.LP.N)\n",
    "        w = self.LP.cost.l_x(x=self.x[self.LP.N],u=None, k=self.LP.N)\n",
    "        V = self.LP.cost.l_xx(x=self.x[self.LP.N],u=None, k=self.LP.N)\n",
    "        assert np.abs(V - self.LP.cost.Qf).all() <= 1e-3\n",
    "        assert np.abs(self.LP.cost.Qf.dot(self.x[self.LP.N] \\\n",
    "                                          - self.LP.cost.goal) \\\n",
    "                      - w).all() <= 1e-3, str(w) + \" \" + str(self.LP.cost.Qf.dot(self.x[self.LP.N] \\\n",
    "                                          - self.LP.cost.goal))\n",
    "                \n",
    "                \n",
    "        for k in range(self.LP.N-1, -1, -1):\n",
    "            A = self.LP.dyn.df_dx(x=self.x[k],u=self.u[k])\n",
    "            B = self.LP.dyn.df_du(x=self.x[k],u=self.u[k])\n",
    "            \n",
    "            Qx = self.LP.cost.l_x(x=self.x[k], u=self.u[k],k=k) + A.T.dot(w)#A.T.dot(self.w[k+1])\n",
    "            assert Qx.shape[0] == self.LP.dyn.state_dim\n",
    "            Qu = self.LP.cost.l_u(x=self.x[k], u=self.u[k],k=k) + B.T.dot(w)#B.T.dot(self.w[k+1])\n",
    "            assert Qu.shape[0] == self.LP.dyn.u_dim \n",
    "            assert Qx.shape[1] == Qu.shape[1] == 1\n",
    "            \n",
    "            Qux = self.LP.cost.l_ux(x=self.x[k], u=self.u[k],k=k) + B.T.dot(V).dot(A)#B.T.dot(self.V[k+1]).dot(A)\n",
    "            assert Qux.shape[0] == self.LP.dyn.u_dim\n",
    "            assert Qux.shape[1] == self.LP.dyn.state_dim\n",
    "            \n",
    "            Qxu = Qux.T\n",
    "            Qxx = self.LP.cost.l_xx(x=self.x[k], u=self.u[k],k=k) + A.T.dot(V).dot(A)#A.T.dot(self.V[k+1]).dot(A)\n",
    "            Quu = self.LP.cost.l_uu(x=self.x[k], u=self.u[k],k=k) + B.T.dot(V).dot(B)#B.T.dot(self.V[k+1]).dot(B)\n",
    "            Quu += self.rho_reg*np.eye(Quu.shape[0])\n",
    "            assert Quu.shape[0] == Quu.shape[1] == self.LP.dyn.u_dim\n",
    "            assert Qxx.shape[0] == Qxx.shape[1] == self.LP.dyn.state_dim\n",
    "            \n",
    "            Quu_inv = np.linalg.inv(Quu)\n",
    "            \n",
    "            \n",
    "            cond_nb_Quu = np.linalg.cond(Quu)\n",
    "            \n",
    "            \n",
    "            self.K[k] = - Quu_inv.dot(Qux)\n",
    "            assert self.K[k].shape[0] == self.LP.dyn.u_dim\n",
    "            assert self.K[k].shape[1] == self.LP.dyn.state_dim\n",
    "            self.d[k] = - Quu_inv.dot(Qu)\n",
    "            assert self.d[k].shape[1] == 1\n",
    "            assert self.d[k].shape[0] == self.LP.dyn.u_dim\n",
    "            \n",
    "            self.expected_cost[k] = [self.d[k].T.dot(Qu), \n",
    "                                     .5* self.d[k].T.dot(Quu).dot(self.d[k])]\n",
    "            \n",
    "            w = Qx + self.K[k].T.dot(Qu) + (self.K[k].T.dot(Quu) + Qxu).dot(self.d[k])\n",
    "            V = Qxx + self.K[k].T.dot(Quu).dot(self.K[k]) + Qxu.dot(self.K[k]) + self.K[k].T.dot(Qux)\n",
    "            #self.w[k] = Qx + self.K[k].T.dot(Qu) + (self.K[k].T.dot(Quu) + Qxu).dot(self.d[k])\n",
    "            #self.V[k] = Qxx + self.K[k].T.dot(Quu).dot(self.K[k]) + Qxu.dot(self.K[k]) + self.K[k].T.dot(Qux)\n",
    "            #assert self.w[k].shape[0] == self.V[k].shape[0] == self.V[k].shape[1] == self.LP.dyn.state_dim\n",
    "            #assert self.w[k].shape[1] == 1\n",
    "       \n",
    "    def forward(self, init=False):\n",
    "        \n",
    "        if init: # First rollout\n",
    "            self.u = self.u_init.copy()\n",
    "            self.x[0] = self.LP.x0\n",
    "            self.J[0] = self.LP.cost.loss(self.x[0], self.u[0],k=0)\n",
    "            for k in range(self.LP.N):               \n",
    "                self.x[k+1] = self.LP.dyn.f(self.x[k], self.u[k])\n",
    "                if k == self.LP.N-1:\n",
    "                    self.J[self.LP.N] = self.J[k] + self.LP.cost.loss(self.x[k+1], \n",
    "                                                            u=None,\n",
    "                                                            k=k+1)\n",
    "                else:\n",
    "                    self.J[k+1] = self.J[k] + self.LP.cost.loss(self.x[k+1], \n",
    "                                                            self.u[k+1],\n",
    "                                                            k=k+1)\n",
    "                \n",
    "            self.init_rollout = self.x\n",
    "                \n",
    "        # si traj_{k+1}- trak{k} > 1: alpha/=2\n",
    "        #zk+1-zk > c 10-2 alpha/=2, alpha = 10, alpha =1\n",
    "        \n",
    "        else:\n",
    "            counter = 0\n",
    "            alpha_ok = False\n",
    "            Delta_V = 0\n",
    "            while not alpha_ok :\n",
    "                counter += 1\n",
    "                if counter == 2000: assert 1==0\n",
    "                    \n",
    "                candidate_u = self.u.copy()\n",
    "                candidate_x = self.x.copy()\n",
    "                candidate_J = [None for i in range(self.LP.N+1)]\n",
    "                \n",
    "                dx =  np.zeros((self.LP.dyn.state_dim, 1))\n",
    "                alpha_ok = True\n",
    "                for k in range(self.LP.N):\n",
    "                    du = self.alpha*self.d[k] + self.K[k].dot(dx) #delta u_k\n",
    "                    \n",
    "                    dx_2 = (self.LP.dyn.df_dx(candidate_x[k], candidate_u[k]).dot(dx) + \\\n",
    "                            self.LP.dyn.df_du(candidate_x[k], candidate_u[k]).dot(du)) # Pour tester, = delta x_{k+1}\n",
    "                    \n",
    "                    candidate_u[k] = candidate_u[k] + du #u_k^t = u_k^{t-1} + delta u_k\n",
    "                    candidate_x[k] = candidate_x[k] + dx #x_k^t = x_k^{t-1} + delta x_k\n",
    "                    next_x = self.LP.dyn.f(candidate_x[k], candidate_u[k]) #x_{k+1}^t\n",
    "                    \n",
    "                    dx = next_x - candidate_x[k+1] # delta x_{k+1} = x_{k+1}^t - x_{k+1}^{t-1}\n",
    "                    \n",
    "                    diff_dx = np.abs(dx-dx_2).flatten()\n",
    "                    \n",
    "                    \n",
    "                    \n",
    "                    if k == 0:\n",
    "                        candidate_J[0] = self.LP.cost.loss(candidate_x[k], candidate_u[k],k=k)\n",
    "                    else:\n",
    "                        candidate_J[k] = candidate_J[k-1] + self.LP.cost.loss(candidate_x[k], candidate_u[k],k=k)\n",
    "                    \n",
    "                    \n",
    "                    if np.max(diff_dx) >= self.crit_alpha:\n",
    "                        print(f\"k = {k}, alpha = {self.alpha}\")\n",
    "                        print(f\"dx = {dx.flatten()}, \\n should be equal to \\n {dx_2.flatten()} \\n\")\n",
    "                    \n",
    "                    \n",
    "                    \n",
    "                    #print(f\"dx={dx}, du={du}\")\n",
    "                   # if (np.linalg.norm(dx)/(np.linalg.norm(next_x)+1) >= self.crit_alpha \\\n",
    "                    #    and np.linalg.norm(du)/(np.linalg.norm(tmp_u[k])+1) >= self.crit_alpha \\\n",
    "                     #  and self.alpha >= 1e-3):\n",
    "                    \n",
    "                    #if (np.abs(dx) > self.crit_alpha).any() or (np.abs(du) > self.crit_alpha).any():\n",
    "                    #Delta_V += (self.alpha*self.expected_cost[k][0] + \\\n",
    "                     #           self.alpha**2 * self.expected_cost[k][1])\n",
    "                  \n",
    "                    #if ( self.alpha > self.alpha_min and \\\n",
    "                     #   (self.beta[0] >= np.abs((candidate_J[k] - self.J[k])/ Delta_V) or \\\n",
    "                      #  np.abs((candidate_J[k] - self.J[k])/ Delta_V) >= self.beta[1])) :\n",
    "                        self.alpha = self.gamma*self.alpha\n",
    "                        alpha_ok = False\n",
    "                        break\n",
    "                    \n",
    "                    \n",
    "                if alpha_ok:\n",
    "                    \n",
    "                    candidate_x[self.LP.N] = candidate_x[self.LP.N] + dx\n",
    "                    candidate_J[self.LP.N] = candidate_J[self.LP.N-1] + self.LP.cost.loss(candidate_x[self.LP.N],\n",
    "                                                                                          u=None,\n",
    "                                                                                          k=self.LP.N)\n",
    "                    \n",
    "                    self.x = candidate_x.copy()\n",
    "                    self.u = candidate_u.copy()\n",
    "                    self.J = candidate_J\n",
    "                    #self.alpha = self.alpha_init\n",
    "\n",
    "    \n",
    "        \n",
    "    def compute_loss(self):\n",
    "        self.J[0] = self.LP.cost.loss(self.x[0], self.u[0],k=0)\n",
    "        \n",
    "        for k in range(1,self.LP.N):\n",
    "            self.J[k] = self.J[k-1] + self.LP.cost.loss(self.x[k], self.u[k],k=k)\n",
    "        self.J[self.LP.N] = self.J[self.LP.N-1] + self.LP.cost.loss(self.x[self.LP.N], 0,k=self.LP.N)\n",
    "        \n",
    "    def solve(self, ):\n",
    "        self.reset()\n",
    "        self.rollout_hist = []\n",
    "        self.all_cond_nb = []\n",
    "        \n",
    "        self.forward(init=True)\n",
    "        \n",
    "        for i_traj in range(self.n_traj):\n",
    "            if i_traj%3 == 0:\n",
    "                self.rollout_hist.append(self.x)\n",
    "            if i_traj%10==0:\n",
    "                print(f'**** {i_traj}-th Trajectory ' )\n",
    "                \n",
    "            self.backward()\n",
    "            self.forward()\n",
    "            \n",
    "            self.all_cond_nb.append(self.cond_nb)\n",
    "           \n",
    "         \n",
    "        self.compute_loss()\n",
    "        self.solved = True\n",
    "        print(\"Last Loss: \", self.J[-1])\n",
    "    \n"
   ]
  },
  {
   "cell_type": "markdown",
   "metadata": {},
   "source": [
    "# Problems"
   ]
  },
  {
   "cell_type": "code",
   "execution_count": 885,
   "metadata": {
    "code_folding": []
   },
   "outputs": [],
   "source": [
    "class Environment:\n",
    "    def __init__(self, dt, state_dim, u_dim):\n",
    "        self.dt = dt\n",
    "        \n",
    "        self.state_dim = state_dim\n",
    "        self.u_dim = u_dim\n",
    "        \n",
    "        self.dynamics = None\n",
    "\n",
    "\n",
    "    def create_problem(self,\n",
    "                       x0,\n",
    "                       xf,\n",
    "                       N,\n",
    "                       Q=None,\n",
    "                       R=None,\n",
    "                       Qf=None,\n",
    "                      scale=1):\n",
    "        scale = scale\n",
    "        if Q is None:\n",
    "            Q = scale*np.eye(self.state_dim)\n",
    "        if R is None:\n",
    "            R = scale*np.eye(self.u_dim)\n",
    "        cost = QuadraticCost(Q=Q,\n",
    "                             R=R,\n",
    "                             Qf=Qf,\n",
    "                             goal=xf,\n",
    "                             N=N,\n",
    "                             dt=self.dt,\n",
    "                            )\n",
    "        print(\"Initial cost: x0, u= 0, J = \", cost.loss(x=x0,u=np.zeros((self.u_dim,1)),k=0))\n",
    "        print(\"Last cost: x0, u= 0, J = \", cost.loss(x=x0,u=np.zeros((self.u_dim,1)),k=N))\n",
    "        return Problem(dynamics=self.dynamics,\n",
    "                         cost=cost,\n",
    "                         dt=self.dt,\n",
    "                         x0=x0\n",
    "                        )\n",
    "    \n",
    "    def solve_iLQR(self, \n",
    "                   x0,\n",
    "                   xf,\n",
    "                   N,\n",
    "                   n_traj,\n",
    "                   alpha_init,\n",
    "                   crit_alpha,\n",
    "                   Q=None,\n",
    "                   R=None,\n",
    "                   Qf=None,\n",
    "                   scale_Q=1\n",
    "                  ):\n",
    "        \"\"\"\n",
    "        solve with iLQR:\n",
    "        - initialize with random uniform * 1e-3\n",
    "        - Q, R = eye\n",
    "        \"\"\"\n",
    "        problem = self.create_problem(x0=x0,\n",
    "                                      xf=xf,\n",
    "                                      N=N,\n",
    "                                     Q=Q,\n",
    "                                     R=R,\n",
    "                                     Qf=Qf,\n",
    "                                     scale=scale_Q)\n",
    "        self.ilqr = iLQR(problem=problem,\n",
    "                           n_traj=n_traj,\n",
    "                           u_init=[(1e-3)*np.random.uniform(size=(self.u_dim,1)) for i in range(N)],\n",
    "                        alpha_init=alpha_init,\n",
    "                        crit_alpha=crit_alpha)\n",
    "        self.ilqr.solve()\n",
    "    \n",
    "    def position(self,x):\n",
    "        raise NotImplementedError\n",
    "        \n",
    "        \n",
    "    def create_animation(self, name=\"animation\", x=None):\n",
    "        if x is None:\n",
    "            assert self.ilqr.solved, \"solve first\"\n",
    "            solver_ilqr = True\n",
    "            N = self.ilqr.LP.N\n",
    "            x = self.ilqr.x\n",
    "            x0 = self.ilqr.LP.x0\n",
    "        else:\n",
    "            N = len(x)\n",
    "            x0 = x[0]\n",
    "            solver_ilqr = False\n",
    "            \n",
    "        fig = plt.figure()\n",
    "        ax = fig.add_subplot(111, aspect='equal', autoscale_on=False,\n",
    "                             xlim=(-7, 7), ylim=(-5, 5))\n",
    "        \n",
    "        ax.grid()\n",
    "        \n",
    "        if solver_ilqr:\n",
    "            line_goal, = ax.plot([], [], 'ko-', lw=2, label=\"goal\")\n",
    "            line_goal.set_data(*self.position(self.ilqr.LP.cost.goal))\n",
    "        \n",
    "        line_init, = ax.plot([], [], 'mo-', lw=2, label=\"initial\")\n",
    "        line_init.set_data(*self.position(x0))\n",
    "        \n",
    "        line, = ax.plot([], [], 'ro-', lw=2)\n",
    "        \n",
    "        ax.legend()\n",
    "        def init():\n",
    "            line.set_data([], [])\n",
    "            return line, \n",
    "        \n",
    "        def animate(t):\n",
    "            line.set_data(*self.position(x[t]))\n",
    "            return line,\n",
    "        \n",
    "        animate(0)\n",
    "\n",
    "        ani = animation.FuncAnimation(fig, animate, frames=N, init_func=init)\n",
    "        ani.save(name+'.mp4', fps=30, extra_args=['-vcodec', 'libx264'])\n",
    "\n",
    "\n",
    "            "
   ]
  },
  {
   "cell_type": "markdown",
   "metadata": {},
   "source": [
    "## Mass moving horizontally"
   ]
  },
  {
   "cell_type": "code",
   "execution_count": 1027,
   "metadata": {
    "code_folding": [
     0
    ]
   },
   "outputs": [],
   "source": [
    "class HorizontalMassEnv(Environment):\n",
    "    def __init__(self, dt,m):\n",
    "        super().__init__(dt, state_dim=2, u_dim=1)\n",
    "        self.m = m #mass\n",
    "        \n",
    "        \n",
    "        A = np.array([[1,self.dt],[0,1]])\n",
    "        B = np.array([[0],[self.dt/self.m]])\n",
    "        self.dynamics = LinearDynamics(A,B)\n",
    "        \n",
    "    def position(self,x):\n",
    "        position_x = [x[0][0]]\n",
    "        position_y = [0]\n",
    "        return (position_x, position_y)"
   ]
  },
  {
   "cell_type": "code",
   "execution_count": 1028,
   "metadata": {
    "scrolled": true
   },
   "outputs": [
    {
     "name": "stdout",
     "output_type": "stream",
     "text": [
      "[[  5]\n",
      " [-10]] x0\n",
      "[[0]\n",
      " [0]] xf\n"
     ]
    }
   ],
   "source": [
    "m = 1 \n",
    "dt = 0.1\n",
    "\n",
    "HM_env = HorizontalMassEnv(m=m, dt=dt)\n",
    "\n",
    "N = 200\n",
    "x0 = np.array([[5],[-10]])\n",
    "xf = np.array([[0],[0]])\n",
    "print(x0, \"x0\")\n",
    "print(xf, \"xf\")\n"
   ]
  },
  {
   "cell_type": "code",
   "execution_count": 1029,
   "metadata": {
    "scrolled": true
   },
   "outputs": [
    {
     "name": "stdout",
     "output_type": "stream",
     "text": [
      "Initial cost: x0, u= 0, J =  6.25\n",
      "Last cost: x0, u= 0, J =  62.5\n",
      "**** 0-th Trajectory \n",
      "Last Loss:  62.959465276393004\n"
     ]
    }
   ],
   "source": [
    "HM_env.solve_iLQR(x0=x0,\n",
    "                  xf=xf,\n",
    "                  N=N,\n",
    "                  n_traj=10,\n",
    "                 alpha_init=1,\n",
    "                 crit_alpha=10)"
   ]
  },
  {
   "cell_type": "code",
   "execution_count": 1030,
   "metadata": {
    "scrolled": false
   },
   "outputs": [
    {
     "data": {
      "image/png": "[encoded data removed]",
      "text/plain": [
       "<Figure size 864x216 with 3 Axes>"
      ]
     },
     "metadata": {
      "needs_background": "light"
     },
     "output_type": "display_data"
    }
   ],
   "source": [
    "\n",
    "plt.figure(figsize=(12,3))\n",
    "plt.subplot(131)\n",
    "HM_env.ilqr.plot_loss()\n",
    "plt.subplot(132)\n",
    "HM_env.ilqr.plot_u()\n",
    "plt.subplot(133)\n",
    "HM_env.ilqr.plot_x()"
   ]
  },
  {
   "cell_type": "code",
   "execution_count": 838,
   "metadata": {},
   "outputs": [
    {
     "ename": "AssertionError",
     "evalue": "solve first",
     "output_type": "error",
     "traceback": [
      "\u001b[0;31m---------------------------------------------------------------------------\u001b[0m",
      "\u001b[0;31mAssertionError\u001b[0m                            Traceback (most recent call last)",
      "\u001b[0;32m<ipython-input-838-efdbd958142a>\u001b[0m in \u001b[0;36m<module>\u001b[0;34m\u001b[0m\n\u001b[0;32m----> 1\u001b[0;31m \u001b[0mHM_env\u001b[0m\u001b[0;34m.\u001b[0m\u001b[0mcreate_animation\u001b[0m\u001b[0;34m(\u001b[0m\u001b[0mname\u001b[0m\u001b[0;34m=\u001b[0m\u001b[0;34m\"HM\"\u001b[0m\u001b[0;34m)\u001b[0m\u001b[0;34m\u001b[0m\u001b[0;34m\u001b[0m\u001b[0m\n\u001b[0m",
      "\u001b[0;32m<ipython-input-833-de0d9ef50b27>\u001b[0m in \u001b[0;36mcreate_animation\u001b[0;34m(self, name, x)\u001b[0m\n\u001b[1;32m     74\u001b[0m     \u001b[0;32mdef\u001b[0m \u001b[0mcreate_animation\u001b[0m\u001b[0;34m(\u001b[0m\u001b[0mself\u001b[0m\u001b[0;34m,\u001b[0m \u001b[0mname\u001b[0m\u001b[0;34m=\u001b[0m\u001b[0;34m\"animation\"\u001b[0m\u001b[0;34m,\u001b[0m \u001b[0mx\u001b[0m\u001b[0;34m=\u001b[0m\u001b[0;32mNone\u001b[0m\u001b[0;34m)\u001b[0m\u001b[0;34m:\u001b[0m\u001b[0;34m\u001b[0m\u001b[0;34m\u001b[0m\u001b[0m\n\u001b[1;32m     75\u001b[0m         \u001b[0;32mif\u001b[0m \u001b[0mx\u001b[0m \u001b[0;32mis\u001b[0m \u001b[0;32mNone\u001b[0m\u001b[0;34m:\u001b[0m\u001b[0;34m\u001b[0m\u001b[0;34m\u001b[0m\u001b[0m\n\u001b[0;32m---> 76\u001b[0;31m             \u001b[0;32massert\u001b[0m \u001b[0mself\u001b[0m\u001b[0;34m.\u001b[0m\u001b[0milqr\u001b[0m\u001b[0;34m.\u001b[0m\u001b[0msolved\u001b[0m\u001b[0;34m,\u001b[0m \u001b[0;34m\"solve first\"\u001b[0m\u001b[0;34m\u001b[0m\u001b[0;34m\u001b[0m\u001b[0m\n\u001b[0m\u001b[1;32m     77\u001b[0m             \u001b[0msolver_ilqr\u001b[0m \u001b[0;34m=\u001b[0m \u001b[0;32mTrue\u001b[0m\u001b[0;34m\u001b[0m\u001b[0;34m\u001b[0m\u001b[0m\n\u001b[1;32m     78\u001b[0m             \u001b[0mN\u001b[0m \u001b[0;34m=\u001b[0m \u001b[0mself\u001b[0m\u001b[0;34m.\u001b[0m\u001b[0milqr\u001b[0m\u001b[0;34m.\u001b[0m\u001b[0mLP\u001b[0m\u001b[0;34m.\u001b[0m\u001b[0mN\u001b[0m\u001b[0;34m\u001b[0m\u001b[0;34m\u001b[0m\u001b[0m\n",
      "\u001b[0;31mAssertionError\u001b[0m: solve first"
     ]
    }
   ],
   "source": [
    "HM_env.create_animation(name=\"HM\")"
   ]
  },
  {
   "cell_type": "markdown",
   "metadata": {},
   "source": [
    "## Mass moving on table"
   ]
  },
  {
   "cell_type": "code",
   "execution_count": 1031,
   "metadata": {},
   "outputs": [],
   "source": [
    "class TableMassEnv(Environment):\n",
    "    \"\"\"\n",
    "    state = (x,x_dot,y,y_dot)\n",
    "    \"\"\"\n",
    "    def __init__(self, dt, m):\n",
    "        super().__init__(dt, state_dim=4, u_dim=2)\n",
    "        \n",
    "        self.m = m\n",
    "        \n",
    "        A = np.eye(self.state_dim)\n",
    "        A[0,1], A[2,-1] = self.dt, self.dt\n",
    "\n",
    "        B = np.zeros((self.state_dim, self.u_dim))\n",
    "        B[1,0], B[3,1] = self.dt, self.dt\n",
    "        \n",
    "        self.dynamics = LinearDynamics(A,B)\n",
    "        \n",
    "    def position(self,x):\n",
    "        position_x = [x[0][0]]\n",
    "        position_y = [x[2][0]]\n",
    "        return (position_x, position_y)"
   ]
  },
  {
   "cell_type": "code",
   "execution_count": 1032,
   "metadata": {},
   "outputs": [
    {
     "name": "stdout",
     "output_type": "stream",
     "text": [
      "[[4]\n",
      " [5]\n",
      " [4]\n",
      " [0]] x0\n",
      "[[0]\n",
      " [0]\n",
      " [0]\n",
      " [0]] xf\n"
     ]
    }
   ],
   "source": [
    "dt = 0.1\n",
    "N = 100\n",
    "m = 1 \n",
    "\n",
    "x0 = np.array([[4], #x\n",
    "               [5], #x_dot\n",
    "               [4], #y\n",
    "               [0]])#y_dot\n",
    "xf = np.array([[0], #x\n",
    "               [0], #x_dot\n",
    "               [0], #y\n",
    "               [0]])#y_dot\n",
    "print(x0, \"x0\")\n",
    "print(xf, \"xf\")\n",
    "\n",
    "\n",
    "TM_env = TableMassEnv(dt=dt, m=m)"
   ]
  },
  {
   "cell_type": "code",
   "execution_count": 1033,
   "metadata": {},
   "outputs": [
    {
     "name": "stdout",
     "output_type": "stream",
     "text": [
      "Initial cost: x0, u= 0, J =  2.85\n",
      "Last cost: x0, u= 0, J =  28.5\n",
      "**** 0-th Trajectory \n",
      "Last Loss:  74.85345923189531\n"
     ]
    },
    {
     "data": {
      "image/png": "[encoded data removed]",
      "text/plain": [
       "<Figure size 864x216 with 3 Axes>"
      ]
     },
     "metadata": {
      "needs_background": "light"
     },
     "output_type": "display_data"
    }
   ],
   "source": [
    "TM_env.solve_iLQR(x0=x0,\n",
    "                  xf=xf,\n",
    "                  N=N,\n",
    "                  n_traj=1,\n",
    "                alpha_init=1,\n",
    "                 crit_alpha=100)\n",
    "\n",
    "\n",
    "plt.figure(figsize=(12,3))\n",
    "plt.subplot(131)\n",
    "TM_env.ilqr.plot_loss()\n",
    "plt.subplot(132)\n",
    "TM_env.ilqr.plot_u()\n",
    "plt.subplot(133)\n",
    "TM_env.ilqr.plot_x()"
   ]
  },
  {
   "cell_type": "code",
   "execution_count": 1296,
   "metadata": {
    "scrolled": true
   },
   "outputs": [
    {
     "data": {
      "image/png": "[encoded data removed]",
      "text/plain": [
       "<Figure size 432x288 with 1 Axes>"
      ]
     },
     "metadata": {
      "needs_background": "light"
     },
     "output_type": "display_data"
    }
   ],
   "source": [
    "TM_env.create_animation(name=\"TM\")"
   ]
  },
  {
   "cell_type": "markdown",
   "metadata": {},
   "source": [
    "## Cartpole"
   ]
  },
  {
   "cell_type": "markdown",
   "metadata": {},
   "source": [
    "Dynamics :\n",
    "\\begin{align*}\n",
    "\\ddot x &= \\frac{F + m\\sin \\theta (g \\cos \\theta + \\ell \\dot \\theta^2)}{M + m \\sin^2 \\theta} \\\\\n",
    "\\ddot \\theta &= \\frac{-(M+m)g \\sin \\theta - m \\ell \\dot \\theta^2 \\cos \\theta \\sin \\theta - F \\cos \\theta}{\\ell (M + m \\sin^2 \\theta)}\n",
    "\\end{align*}"
   ]
  },
  {
   "cell_type": "markdown",
   "metadata": {},
   "source": [
    "Let  $q = (x,  \\theta, \\dot x, \\dot \\theta)^T$, $u = F$.  "
   ]
  },
  {
   "cell_type": "markdown",
   "metadata": {},
   "source": [
    "$\\dot q = f(q,u) = \n",
    "\\begin {bmatrix}\n",
    "\\dot x\\\\\n",
    "\\dot \\theta\\\\\n",
    "\\frac{F + m\\sin \\theta (g \\cos \\theta + \\ell \\dot \\theta^2)}{M + m \\sin^2 \\theta} \\\\\n",
    "\\frac{-(M+m)g \\sin \\theta - m \\ell \\dot \\theta^2 \\cos \\theta \\sin \\theta - F \\cos \\theta}{\\ell (M + m \\sin^2 \\theta)}\n",
    "\\end{bmatrix}$ \n",
    "\n",
    "$u_0 = 0$, $q_0 = (0,\\pi,0,0)^T$ is a fixed point:  $f(q_0,u_0) = \\dot q_0= 0$"
   ]
  },
  {
   "cell_type": "markdown",
   "metadata": {},
   "source": [
    "Denote by $\\bar{q} = q-q_0$, $\\bar{u} = u-u_0$. Linearizing around $q_0,u_0$ yields\n",
    "\n",
    "\\begin{align*}\n",
    "\\dot q   = f(q,u) &\\approx f(q_0,u_0) + \\frac{\\partial f}{\\partial q}_{|q = q_0, u = u_0} (q-q_0) + \\frac{\\partial f}{\\partial u}_{|q=q_0, u = u_0} (u-u_0) \\\\\n",
    "\\dot q = \\dot{ \\bar{q}} &\\approx\n",
    "\\begin{bmatrix}\n",
    "0 & 0 & 1 & 0 \\\\\n",
    "0 & 0 & 0 & 1\\\\\n",
    "0 & \\frac{mg}{M} & 0 & 0 \\\\\n",
    "0 & \\frac{(m+M)g}{\\ell M} & 0 & 0 \n",
    "\\end{bmatrix}\\bar{q} +\n",
    "\\begin{bmatrix}\n",
    "0  \\\\\n",
    "0\\\\\n",
    " \\frac{1}{M} \\\\\n",
    " \\frac{1}{\\ell M}  \n",
    "\\end{bmatrix}\\bar{u}\n",
    "\\end{align*}"
   ]
  },
  {
   "cell_type": "code",
   "execution_count": 1034,
   "metadata": {
    "code_folding": [
     0
    ]
   },
   "outputs": [],
   "source": [
    "class CartPoleDynamics(Dynamics):\n",
    "    def __init__(self, dt, m, M, l):\n",
    "        \"\"\"\n",
    "        dt: discretization step\n",
    "        \"\"\"\n",
    "        self.dt = dt\n",
    "        self.m = m\n",
    "        self.M = M\n",
    "        self.l = l\n",
    "        self.g = 9.81\n",
    "        \n",
    "        super().__init__(state_dim=4, u_dim=1)\n",
    "        \n",
    "    \n",
    "    \n",
    "    def f(self, x, u):\n",
    "        \"\"\"\n",
    "        if we denote g by x_dot(t) = g(x(t),u(t))\n",
    "        Then x_{k+1} = x_k + g(x_k, u_k)dt = f(x_k,u_k)\n",
    "        \"\"\"\n",
    "        u = u[0][0]\n",
    "        cth = np.cos(x[1][0])\n",
    "        sth = np.sin(x[1][0])\n",
    "        theta_dot = x[3][0]\n",
    "        \n",
    "        dxdt = np.zeros((self.state_dim, 1))\n",
    "        dxdt[0][0] = x[2][0] #x_dot\n",
    "        dxdt[1][0] = theta_dot\n",
    "\n",
    "        tmp_div = self.M + self.m*sth**2\n",
    "\n",
    "        dxdt[2][0] =  (u + self.m*sth*(self.g*cth + self.l*theta_dot**2)) / tmp_div\n",
    "        dxdt[3][0] = (-(self.m+self.M) * self.g * sth \\\n",
    "                      - self.m*self.l*theta_dot**2*cth*sth \\\n",
    "                      - u*cth )/ (self.l*tmp_div)\n",
    "        return x + dxdt*self.dt\n",
    "    \n",
    "    def mdf_du(self,x,u):\n",
    "        cth = np.cos(x[1][0])\n",
    "        sth = np.sin(x[1][0])\n",
    "        tmp_div = self.M + self.m*sth**2\n",
    "        Jac_u = np.zeros((self.state_dim, self.u_dim))\n",
    "        Jac_u[2][0] = 1/tmp_div\n",
    "        Jac_u[3][0] = -cth/(self.l*tmp_div)\n",
    "        return Jac_u*self.dt\n",
    "    \n",
    "    def mdf_dx(self, x,u):\n",
    "        u = float(u)\n",
    "        cth = np.cos(x[1][0])\n",
    "        sth = np.sin(x[1][0])\n",
    "        theta_dot = x[3][0]\n",
    "        Jac_x = np.eye((self.state_dim))\n",
    "        tmp_div = self.M + self.m*sth**2\n",
    "        \n",
    "        Jac_x[0][2] += self.dt\n",
    "        Jac_x[1][3] += self.dt\n",
    "        Jac_x[2][1] += (self.m*self.dt/tmp_div**2) * (self.g*(self.M - (self.m+2*self.M)*sth**2)\\\n",
    "                                                      + self.l*theta_dot**2*cth*(self.M - self.m*sth**2)\\\n",
    "                                                      - 2*u*cth*sth)\n",
    "        Jac_x[2][3] += (2*self.m*self.l*theta_dot*sth*self.dt)/tmp_div\n",
    "        \n",
    "        Jac_x[3][1] += (self.dt/(self.l*tmp_div**2)) * ((self.M+self.m)*self.g*cth*(self.m*sth**2 - self.M)\\\n",
    "                                                      + self.m*self.l*theta_dot**2 * ((self.m+2*self.M)*sth**2 - self.M)\\\n",
    "                                                      + u*sth*(self.M + self.m*(2-sth**2)))\n",
    "        \n",
    "        Jac_x[3][3] += - (2*self.m*theta_dot*cth*sth*self.dt)/tmp_div\n",
    "        \n",
    "        return Jac_x\n",
    "        \n",
    "    def cdf_dx(self, x, u):\n",
    "        \"\"\"\n",
    "        Jacobian of f wrt x \n",
    "        \"\"\"\n",
    "        eps=1e-4\n",
    "        Jac_x = np.zeros((self.state_dim, self.state_dim))\n",
    "        for i in range(self.state_dim):\n",
    "            x_h = x.copy()\n",
    "            x_h[i][0] += eps\n",
    "            Jac_x[:,i] = (self.f(x_h,u) - self.f(x,u)).flatten()\n",
    "        \n",
    "        Jac_x /= eps\n",
    "        return Jac_x\n",
    "    \n",
    "    def cdf_du(self, x, u):\n",
    "        \"\"\"\n",
    "        Jacobian of f wrt u\n",
    "        \"\"\"\n",
    "        eps=1e-4\n",
    "        Jac_u = np.zeros((self.state_dim, self.u_dim))\n",
    "        for i in range(self.u_dim):\n",
    "            u_h = u.copy()\n",
    "            u_h[i][0] += eps\n",
    "            Jac_u[:,i] = (self.f(x,u_h) - self.f(x,u)).flatten()\n",
    "        Jac_u /= eps\n",
    "        return Jac_u"
   ]
  },
  {
   "cell_type": "code",
   "execution_count": 935,
   "metadata": {
    "code_folding": [
     0
    ]
   },
   "outputs": [],
   "source": [
    "class DebugCartPoleDynamics(Dynamics):\n",
    "    def __init__(self, dt, m, M, l):\n",
    "        \"\"\"\n",
    "        dt: discretization step\n",
    "        u = [x, theta_acc]\n",
    "        \"\"\"\n",
    "        self.dt = dt\n",
    "        self.m = m\n",
    "        self.M = M\n",
    "        self.l = l\n",
    "        self.g = 9.81\n",
    "        \n",
    "        super().__init__(state_dim=4, u_dim=2)\n",
    "        \n",
    "    \n",
    "    \n",
    "    def f(self, x, u):\n",
    "        \"\"\"\n",
    "        if we denote g by x_dot(t) = g(x(t),u(t))\n",
    "        Then x_{k+1} = x_k + g(x_k, u_k)dt = f(x_k,u_k)\n",
    "        \"\"\"\n",
    "        u_x = u[0][0]\n",
    "        cth = np.cos(x[1][0])\n",
    "        sth = np.sin(x[1][0])\n",
    "        theta_dot = x[3][0]\n",
    "        \n",
    "        dxdt = np.zeros((self.state_dim, 1))\n",
    "        dxdt[0][0] = x[2][0] #x_dot\n",
    "        dxdt[1][0] = theta_dot\n",
    "\n",
    "        tmp_div = self.M + self.m*sth**2\n",
    "\n",
    "        dxdt[2][0] =  (u_x + self.m*sth*(self.g*cth + self.l*theta_dot**2)) / tmp_div\n",
    "        dxdt[3][0] = (-(self.m+self.M) * self.g * sth \\\n",
    "                      - self.m*self.l*theta_dot**2*cth*sth \\\n",
    "                      - u_x*cth )/ (self.l*tmp_div)\n",
    "        \n",
    "        dxdt[3][0] += u[1][0]/self.m\n",
    "        return x + dxdt*self.dt\n",
    "    "
   ]
  },
  {
   "cell_type": "code",
   "execution_count": 925,
   "metadata": {
    "code_folding": [
     0
    ]
   },
   "outputs": [],
   "source": [
    "class DebugCartPoleEnv(Environment):\n",
    "    def __init__(self, dt, m=1, M=1, l=1):\n",
    "        super().__init__(dt,\n",
    "                         state_dim=4,\n",
    "                         u_dim=2)\n",
    "        \n",
    "        self.dynamics = DebugCartPoleDynamics(dt=dt, m=m, M=M, l=l)\n",
    "    \n",
    "    def position(self,x):\n",
    "        \"\"\"\n",
    "        Coordinates of cart and pole given a state\n",
    "        \"\"\"\n",
    "        cart_x = [x[0][0], x[0][0] + self.dynamics.l * np.sin((x[1][0]))]\n",
    "        pole_y = [0, -self.dynamics.l * np.cos((x[1][0]))]\n",
    "        return (cart_x, pole_y)\n",
    "    \n",
    "      \n",
    "    \n",
    "    def solve_iLQR(self, \n",
    "                   x0,\n",
    "                   xf,\n",
    "                   N,\n",
    "                   n_traj,\n",
    "                   alpha_init,\n",
    "                   crit_alpha,\n",
    "                   Q=None,\n",
    "                   R=None,\n",
    "                   Qf=None,\n",
    "                   rho_reg=0\n",
    "                  ):\n",
    "        \"\"\"\n",
    "        solve with iLQR:\n",
    "        - initialize with random uniform * 1e-3\n",
    "        - Q, R = eye\n",
    "        \"\"\"\n",
    "        if R is None:\n",
    "            R = np.eye(self.u_dim)\n",
    "        \n",
    "        if Q is None:\n",
    "            Q = np.eye(self.state_dim)\n",
    "        \n",
    "        cost = QuadraticCost(dt=self.dt,\n",
    "                    N=N,\n",
    "                    goal=xf,\n",
    "                    Qf=Qf,\n",
    "                    Q=Q,\n",
    "                    R=R)\n",
    "        \n",
    "        print(\"Initial cost: x0, u= 0, J = \", cost.loss(x=x0,u=np.zeros((self.u_dim,1)),k=0))\n",
    "        print(\"Last cost: x0, u= 0, J = \", cost.loss(x=x0,u=np.zeros((self.u_dim,1)),k=N))\n",
    "        \n",
    "        problem = Problem(dynamics=self.dynamics,\n",
    "                                 cost=cost,\n",
    "                                 dt=self.dt,\n",
    "                                 x0=x0\n",
    "                                )\n",
    "        \n",
    "        self.ilqr = iLQR(problem=problem,\n",
    "                           n_traj=n_traj,\n",
    "                           u_init=[(1e-6)*np.random.uniform(size=(self.u_dim,1)) for i in range(N)],\n",
    "                        alpha_init=alpha_init,\n",
    "                        crit_alpha=crit_alpha,\n",
    "                        rho_reg=rho_reg)\n",
    "        self.ilqr.solve()"
   ]
  },
  {
   "cell_type": "code",
   "execution_count": null,
   "metadata": {},
   "outputs": [],
   "source": []
  },
  {
   "cell_type": "code",
   "execution_count": 1035,
   "metadata": {
    "code_folding": []
   },
   "outputs": [],
   "source": [
    "class CartPoleEnv(Environment):\n",
    "    def __init__(self, dt, m=1, M=1, l=1):\n",
    "        super().__init__(dt,\n",
    "                         state_dim=4,\n",
    "                         u_dim=1)\n",
    "        \n",
    "        self.dynamics = CartPoleDynamics(dt=dt, m=m, M=M, l=l)\n",
    "    \n",
    "    def position(self,x):\n",
    "        \"\"\"\n",
    "        Coordinates of cart and pole given a state\n",
    "        \"\"\"\n",
    "        cart_x = [x[0][0], x[0][0] + self.dynamics.l * np.sin((x[1][0]))]\n",
    "        pole_y = [0, -self.dynamics.l * np.cos((x[1][0]))]\n",
    "        return (cart_x, pole_y)\n",
    "    \n",
    "      \n",
    "    \n",
    "    def solve_iLQR(self, \n",
    "                   x0,\n",
    "                   xf,\n",
    "                   N,\n",
    "                   n_traj,\n",
    "                   alpha_init,\n",
    "                   crit_alpha,\n",
    "                   Q=None,\n",
    "                   R=None,\n",
    "                   Qf=None,\n",
    "                   rho_reg=0\n",
    "                  ):\n",
    "        \"\"\"\n",
    "        solve with iLQR:\n",
    "        - initialize with random uniform * 1e-3\n",
    "        - Q, R = eye\n",
    "        \"\"\"\n",
    "        if R is None:\n",
    "            R = np.eye(self.u_dim)\n",
    "        \n",
    "        if Q is None:\n",
    "            Q = np.eye(self.state_dim)\n",
    "        \n",
    "        cost = QuadraticCost(dt=self.dt,\n",
    "                    N=N,\n",
    "                    goal=xf,\n",
    "                    Qf=Qf,\n",
    "                    Q=Q,\n",
    "                    R=R)\n",
    "        \n",
    "        print(\"Initial cost: x0, u= 0, J = \", cost.loss(x=x0,u=np.zeros((self.u_dim,1)),k=0))\n",
    "        print(\"Last cost: x0, u= 0, J = \", cost.loss(x=x0,u=np.zeros((self.u_dim,1)),k=N))\n",
    "        \n",
    "        problem = Problem(dynamics=self.dynamics,\n",
    "                                 cost=cost,\n",
    "                                 dt=self.dt,\n",
    "                                 x0=x0\n",
    "                                )\n",
    "        \n",
    "        self.ilqr = iLQR(problem=problem,\n",
    "                           n_traj=n_traj,\n",
    "                           u_init=[(1e-6)*np.random.uniform(size=(self.u_dim,1)) for i in range(N)],\n",
    "                        alpha_init=alpha_init,\n",
    "                        crit_alpha=crit_alpha,\n",
    "                        rho_reg=rho_reg)\n",
    "        self.ilqr.solve()"
   ]
  },
  {
   "cell_type": "code",
   "execution_count": 903,
   "metadata": {
    "code_folding": [
     0,
     1
    ],
    "scrolled": true
   },
   "outputs": [],
   "source": [
    "## Test cartpolecost\n",
    "if 0:\n",
    "    dt = 0.05\n",
    "    N = 100\n",
    "\n",
    "    x0 = np.array([[0],[np.pi], [0], [0]])\n",
    "    x0 = np.random.uniform(low=-10,high=10,size=(4,1))\n",
    "    print(x0)\n",
    "    xf =  np.array([[0], [np.pi], [0], [0]])\n",
    "    R = np.eye(1)\n",
    "    q = 1\n",
    "    qf = 10\n",
    "    u = 0*np.ones((1,1))\n",
    "\n",
    "    cp_cost = CartPoleCost(dt=dt,\n",
    "                           N=N,\n",
    "                           goal=xf,\n",
    "                           R=R,\n",
    "                           q=q,\n",
    "                           qf=qf)\n",
    "\n",
    "    cp_cost.loss(x=x0, u=u,k=N)"
   ]
  },
  {
   "cell_type": "code",
   "execution_count": 904,
   "metadata": {
    "code_folding": [
     0
    ]
   },
   "outputs": [],
   "source": [
    "class CartPoleCost(Cost):\n",
    "    def __init__(self, dt, N, goal, R, q, qf):\n",
    "        super().__init__(goal=goal, N=N, u_goal=None)\n",
    "        \n",
    "        self.dt = dt\n",
    "        \n",
    "        self.R = R\n",
    "        self.q = q\n",
    "        self.qf = qf\n",
    "        \n",
    "        \n",
    "        self.state_dim = 4\n",
    "        self.u_dim = self.R.shape[0]\n",
    "        \n",
    "        if self.u_goal is None:\n",
    "            self.u_goal = np.zeros((self.u_dim,1))\n",
    "        \n",
    "    \n",
    "    def loss(self, x, u, k):\n",
    "        assert k <= self.N\n",
    "        if k<self.N:\n",
    "            assert u.shape == self.u_goal.shape, \"u: \"+str(u.shape) +\", ugoal: \" + str(self.u_goal.shape)\n",
    "            \n",
    "        x_p = np.zeros((5,1))\n",
    "        x_p[0][0] = x[0][0]\n",
    "        x_p[1][0] = np.sin(x[1][0])\n",
    "        x_p[2][0] = np.cos(x[1][0])\n",
    "        x_p[3][0] = x[2][0]\n",
    "        x_p[4][0] = x[3][0]\n",
    "        \n",
    "        goal_p = np.zeros((5,1))\n",
    "        goal_p[0][0] = self.goal[0][0]\n",
    "        goal_p[1][0] = np.sin(self.goal[1][0])\n",
    "        goal_p[2][0] = np.cos(self.goal[1][0])\n",
    "        goal_p[3][0] = self.goal[2][0]\n",
    "        goal_p[4][0] = self.goal[3][0]\n",
    "        \n",
    "        tmp = np.square(x_p-goal_p) / np.sum(np.square(x_p-goal_p))\n",
    "        \n",
    "        if k == self.N:\n",
    "            l = (1/2)*(tmp).T.dot(tmp)*self.qf\n",
    "            return float(l) #final cost: do not multiply by dt\n",
    "\n",
    "        l = (1/2)*(tmp).T.dot(tmp)*self.q \n",
    "        l += (1/2)*(u-self.u_goal).T.dot(self.R).dot(u-self.u_goal)\n",
    "        return float(l)*self.dt\n",
    "        \n",
    "        \n",
    "    def l_x(self, x,  u, k):\n",
    "        \"\"\" \n",
    "        Derivative of loss wrt x (dl/dx)\n",
    "        col vector size x_dim\n",
    "        \"\"\"\n",
    "        assert k <= self.N\n",
    "        assert x.shape[0] == self.state_dim\n",
    "        theta = x[1][0]\n",
    "        theta_goal = self.goal[1][0]\n",
    "        tmp = (x-self.goal)\n",
    "        tmp[1][0] = (-np.cos(theta)*np.sin(theta_goal) + np.sin(theta)*np.cos(theta_goal))*self.q_theta\n",
    "        \n",
    "        if k == self.N:\n",
    "            lx = self.qf*tmp\n",
    "            return lx\n",
    "        \n",
    "        lx = self.q*tmp\n",
    "        assert lx.shape[1] == 1\n",
    "        assert lx.shape[0] == self.state_dim\n",
    "        \n",
    "        return lx*self.dt\n",
    "    \n",
    "    \n",
    "    def l_u(self, x, u, k):\n",
    "        \"\"\" column vector size u_dim \"\"\"\n",
    "        assert k < self.N\n",
    "        assert u.shape[0] == self.u_dim\n",
    "        lu = self.R.dot(u - self.u_goal)\n",
    "            \n",
    "        assert lu.shape[1] == 1\n",
    "        assert lu.shape[0] == self.u_dim\n",
    "        return lu*self.dt\n",
    "    \n",
    "    def l_xx(self, x, u, k):\n",
    "        theta = x[1][0]\n",
    "        theta_goal = self.goal[1][0]\n",
    "        lxx = np.eye(self.state_dim)\n",
    "        lxx[1][1] = (np.sin(theta)*np.sin(theta_goal) + np.cos(theta)*np.cos(theta_goal))*self.q_theta\n",
    "        if k == self.N:\n",
    "            return self.qf*lxx        \n",
    "        return self.q*lxx*self.dt\n",
    "    \n",
    "    \n",
    "    def l_uu(self, x, u, k):\n",
    "        assert k < self.N\n",
    "        return self.R*self.dt\n",
    "    \n",
    "    def l_xu(self, x, u, k):\n",
    "        assert k < self.N\n",
    "        return np.zeros((self.state_dim,u_dim))*self.dt\n",
    "    \n",
    "    def l_ux(self, x, u, k):\n",
    "        assert k < self.N\n",
    "        return np.zeros((self.u_dim,state_dim))*self.dt"
   ]
  },
  {
   "cell_type": "markdown",
   "metadata": {},
   "source": [
    "### Cartpole test"
   ]
  },
  {
   "cell_type": "code",
   "execution_count": 906,
   "metadata": {
    "code_folding": [
     0
    ]
   },
   "outputs": [],
   "source": [
    "if 0:#testdynamic, create animation with traj\n",
    "    dt = 3e-2\n",
    "    test = CartPoleEnv(dt=dt)\n",
    "\n",
    "    x0 = np.array([[0],\n",
    "                  [np.pi],\n",
    "                 [0],\n",
    "                 [0]])\n",
    "    u = [[0]]\n",
    "\n",
    "    T = 500\n",
    "    x = x0\n",
    "\n",
    "    all_x = [x]\n",
    "    x_t = []\n",
    "    x_dot_t = []\n",
    "    theta_t = []\n",
    "    theta_dot = []\n",
    "    for t in range(T):\n",
    "        x = test.dynamics.f(x,u)\n",
    "        all_x.append(x)\n",
    "\n",
    "        \n",
    "        x_t.append(x[0][0])\n",
    "        theta_t.append(x[1][0])\n",
    "        x_dot_t.append(x[2][0])\n",
    "        theta_dot.append(x[3][0])\n",
    "    #plt.plot(x_t,label=\"x\")\n",
    "    #plt.plot(x_dot_t,label=\"x dot\")\n",
    "    plt.plot(theta_t,label=\"theta\")\n",
    "    plt.plot(theta_dot,label=\"theta dot \")\n",
    "    plt.legend()\n",
    "    plt.grid()\n",
    "\n",
    "    test.create_animation(x=all_x)\n"
   ]
  },
  {
   "cell_type": "code",
   "execution_count": 1066,
   "metadata": {},
   "outputs": [],
   "source": [
    "N = 120\n",
    "dt = 0.03\n",
    "\n",
    "#qf=1\n",
    "m = 1#0.2\n",
    "M = 1\n",
    "l = 1#.5\n",
    "\n",
    "CP_env = CartPoleEnv(dt=dt,\n",
    "                      m=m,\n",
    "                      M=M,\n",
    "                      l=l)\n",
    "\n",
    "\n",
    "x0 = np.array([[0],[0.*np.pi], [0], [0]])\n",
    "\n",
    "xf =  np.array([[2], [1.0*np.pi], [0], [0]])"
   ]
  },
  {
   "cell_type": "code",
   "execution_count": 1073,
   "metadata": {
    "scrolled": true
   },
   "outputs": [
    {
     "name": "stdout",
     "output_type": "stream",
     "text": [
      "Initial cost: x0, u= 0, J =  2.0804406601634033\n",
      "Last cost: x0, u= 0, J =  1386.960440108936\n",
      "**** 0-th Trajectory \n",
      "k = 99, alpha = 1\n",
      "dx = [ 3.84271023 -1.70287626  2.2456525  -1.60578761], \n",
      " should be equal to \n",
      " [ 3.84271023 -1.70287626  1.58315765 -0.46940583] \n",
      "\n",
      "**** 10-th Trajectory \n",
      "**** 20-th Trajectory \n",
      "**** 30-th Trajectory \n",
      "**** 40-th Trajectory \n",
      "**** 50-th Trajectory \n",
      "**** 60-th Trajectory \n",
      "**** 70-th Trajectory \n",
      "**** 80-th Trajectory \n",
      "**** 90-th Trajectory \n",
      "**** 100-th Trajectory \n",
      "**** 110-th Trajectory \n",
      "**** 120-th Trajectory \n",
      "**** 130-th Trajectory \n",
      "**** 140-th Trajectory \n",
      "**** 150-th Trajectory \n",
      "**** 160-th Trajectory \n",
      "**** 170-th Trajectory \n",
      "**** 180-th Trajectory \n",
      "**** 190-th Trajectory \n",
      "Last Loss:  218.00104937776786\n"
     ]
    },
    {
     "data": {
      "image/png": "[encoded data removed]",
      "text/plain": [
       "<Figure size 1080x216 with 3 Axes>"
      ]
     },
     "metadata": {
      "needs_background": "light"
     },
     "output_type": "display_data"
    }
   ],
   "source": [
    "\n",
    "Q = 1*np.eye(4)\n",
    "Q[1][1] = 10\n",
    "Q[0][0] = 10\n",
    "\n",
    "Qf = 20*Q\n",
    "#Qf[0][0] = 11\n",
    "\n",
    "R = 1*np.eye(1)\n",
    "CP_env.solve_iLQR(x0=x0,\n",
    "                  xf=xf,\n",
    "                  N=N,\n",
    "                  n_traj=200,\n",
    "                 alpha_init=1,\n",
    "                 crit_alpha=1,\n",
    "                 Q=Q,\n",
    "                 Qf=Qf)\n",
    "\n",
    "plt.figure(figsize=(15,3))\n",
    "plt.subplot(131)\n",
    "CP_env.ilqr.plot_loss()\n",
    "plt.subplot(132)\n",
    "CP_env.ilqr.plot_u()\n",
    "plt.subplot(133)\n",
    "CP_env.ilqr.plot_x()"
   ]
  },
  {
   "cell_type": "code",
   "execution_count": 911,
   "metadata": {},
   "outputs": [
    {
     "data": {
      "text/plain": [
       "0"
      ]
     },
     "execution_count": 911,
     "metadata": {},
     "output_type": "execute_result"
    }
   ],
   "source": [
    "CP_env.ilqr.rho_reg"
   ]
  },
  {
   "cell_type": "code",
   "execution_count": 1075,
   "metadata": {},
   "outputs": [
    {
     "data": {
      "text/plain": [
       "'[10. 10.  1.  1.]'"
      ]
     },
     "execution_count": 1075,
     "metadata": {},
     "output_type": "execute_result"
    }
   ],
   "source": [
    "f\"{np.diag(Q)}\""
   ]
  },
  {
   "cell_type": "code",
   "execution_count": 1077,
   "metadata": {
    "scrolled": false
   },
   "outputs": [
    {
     "data": {
      "image/png": "[encoded data removed]",
      "text/plain": [
       "<Figure size 432x288 with 1 Axes>"
      ]
     },
     "metadata": {
      "needs_background": "light"
     },
     "output_type": "display_data"
    }
   ],
   "source": [
    "CP_env.create_animation(name=f\"swingup_Q-{np.diag(Q)}_N_{N}_dt_{dt}\")"
   ]
  },
  {
   "cell_type": "code",
   "execution_count": 691,
   "metadata": {},
   "outputs": [
    {
     "data": {
      "image/png": "[encoded data removed]",
      "text/plain": [
       "<Figure size 432x288 with 1 Axes>"
      ]
     },
     "metadata": {
      "needs_background": "light"
     },
     "output_type": "display_data"
    }
   ],
   "source": [
    "all_cnd = CP_env.ilqr.all_cond_nb \n",
    "for i in range(len(all_cnd)):\n",
    "    plt.plot(all_cnd[i], label=f\"{i}\")\n"
   ]
  },
  {
   "cell_type": "code",
   "execution_count": 668,
   "metadata": {},
   "outputs": [
    {
     "data": {
      "text/plain": [
       "0.0009765625"
      ]
     },
     "execution_count": 668,
     "metadata": {},
     "output_type": "execute_result"
    }
   ],
   "source": [
    "CP_env.ilqr.alpha"
   ]
  },
  {
   "cell_type": "code",
   "execution_count": 640,
   "metadata": {},
   "outputs": [],
   "source": [
    "rollout_hist = CP_env.ilqr.rollout_hist\n",
    "n_rol = len(rollout_hist)"
   ]
  },
  {
   "cell_type": "code",
   "execution_count": 642,
   "metadata": {},
   "outputs": [
    {
     "name": "stdout",
     "output_type": "stream",
     "text": [
      "0\n",
      "3\n",
      "6\n",
      "9\n",
      "12\n",
      "15\n",
      "18\n"
     ]
    },
    {
     "data": {
      "image/png": "[encoded data removed]",
      "text/plain": [
       "<Figure size 432x288 with 1 Axes>"
      ]
     },
     "metadata": {
      "needs_background": "light"
     },
     "output_type": "display_data"
    },
    {
     "data": {
      "image/png": "[encoded data removed]",
      "text/plain": [
       "<Figure size 432x288 with 1 Axes>"
      ]
     },
     "metadata": {
      "needs_background": "light"
     },
     "output_type": "display_data"
    },
    {
     "data": {
      "image/png": "[encoded data removed]",
      "text/plain": [
       "<Figure size 432x288 with 1 Axes>"
      ]
     },
     "metadata": {
      "needs_background": "light"
     },
     "output_type": "display_data"
    },
    {
     "data": {
      "image/png": "[encoded data removed]",
      "text/plain": [
       "<Figure size 432x288 with 1 Axes>"
      ]
     },
     "metadata": {
      "needs_background": "light"
     },
     "output_type": "display_data"
    },
    {
     "data": {
      "image/png": "[encoded data removed]",
      "text/plain": [
       "<Figure size 432x288 with 1 Axes>"
      ]
     },
     "metadata": {
      "needs_background": "light"
     },
     "output_type": "display_data"
    },
    {
     "data": {
      "image/png": "[encoded data removed]",
      "text/plain": [
       "<Figure size 432x288 with 1 Axes>"
      ]
     },
     "metadata": {
      "needs_background": "light"
     },
     "output_type": "display_data"
    },
    {
     "data": {
      "image/png": "[encoded data removed]",
      "text/plain": [
       "<Figure size 432x288 with 1 Axes>"
      ]
     },
     "metadata": {
      "needs_background": "light"
     },
     "output_type": "display_data"
    }
   ],
   "source": [
    "for i in range(n_rol):\n",
    "    if i%3==0 and i <20:\n",
    "        print(i)\n",
    "        CP_env.create_animation(name=f\"cart_{i}\", x=rollout_hist[i])"
   ]
  },
  {
   "cell_type": "code",
   "execution_count": null,
   "metadata": {},
   "outputs": [],
   "source": []
  },
  {
   "cell_type": "markdown",
   "metadata": {},
   "source": [
    "### Cartpole Debug"
   ]
  },
  {
   "cell_type": "code",
   "execution_count": 990,
   "metadata": {},
   "outputs": [],
   "source": [
    "dt = 0.03\n",
    "N = 100\n",
    "#qf=1\n",
    "m = M = l = 1\n",
    "\n",
    "CP_env = DebugCartPoleEnv(dt=dt,\n",
    "                      m=m,\n",
    "                      M=M,\n",
    "                      l=l)\n",
    "\n",
    "\n",
    "x0 = np.array([[0],[0*np.pi], [0], [0]])\n",
    "\n",
    "xf =  np.array([[0], [1.0*np.pi], [0], [0]])"
   ]
  },
  {
   "cell_type": "code",
   "execution_count": 993,
   "metadata": {},
   "outputs": [
    {
     "name": "stdout",
     "output_type": "stream",
     "text": [
      "Initial cost: x0, u= 0, J =  0.29608813203268075\n",
      "Last cost: x0, u= 0, J =  98.69604401089357\n",
      "**** 0-th Trajectory \n",
      "**** 10-th Trajectory \n",
      "**** 20-th Trajectory \n",
      "**** 30-th Trajectory \n",
      "**** 40-th Trajectory \n",
      "**** 50-th Trajectory \n",
      "**** 60-th Trajectory \n",
      "**** 70-th Trajectory \n",
      "**** 80-th Trajectory \n",
      "**** 90-th Trajectory \n",
      "**** 100-th Trajectory \n",
      "**** 110-th Trajectory \n",
      "**** 120-th Trajectory \n",
      "**** 130-th Trajectory \n",
      "**** 140-th Trajectory \n",
      "**** 150-th Trajectory \n",
      "**** 160-th Trajectory \n",
      "**** 170-th Trajectory \n",
      "**** 180-th Trajectory \n",
      "**** 190-th Trajectory \n",
      "Last Loss:  46.846687480835875\n"
     ]
    },
    {
     "data": {
      "image/png": "[encoded data removed]",
      "text/plain": [
       "<Figure size 1080x216 with 3 Axes>"
      ]
     },
     "metadata": {
      "needs_background": "light"
     },
     "output_type": "display_data"
    }
   ],
   "source": [
    "\n",
    "Q = 2*np.eye(4)\n",
    "Q[1][1] = 2\n",
    "Q[0][0] = 2\n",
    "Q[3][3] = 1\n",
    "\n",
    "Qf = 10*Q\n",
    "#Qf[0][0] = 11\n",
    "\n",
    "R = 1*np.eye(2)\n",
    "CP_env.solve_iLQR(x0=x0,\n",
    "                  xf=xf,\n",
    "                  N=N,\n",
    "                  n_traj=200,\n",
    "                 alpha_init=1,\n",
    "                 crit_alpha=10,\n",
    "                 Q=Q,\n",
    "                 Qf=Qf,\n",
    "                 R=R)\n",
    "\n",
    "plt.figure(figsize=(15,3))\n",
    "plt.subplot(131)\n",
    "CP_env.ilqr.plot_loss()\n",
    "plt.subplot(132)\n",
    "CP_env.ilqr.plot_u()\n",
    "plt.subplot(133)\n",
    "CP_env.ilqr.plot_x()"
   ]
  },
  {
   "cell_type": "code",
   "execution_count": 955,
   "metadata": {},
   "outputs": [
    {
     "data": {
      "text/plain": [
       "1"
      ]
     },
     "execution_count": 955,
     "metadata": {},
     "output_type": "execute_result"
    }
   ],
   "source": [
    "CP_env.ilqr.alpha"
   ]
  },
  {
   "cell_type": "code",
   "execution_count": 975,
   "metadata": {
    "scrolled": false
   },
   "outputs": [
    {
     "data": {
      "image/png": "[encoded data removed]",
      "text/plain": [
       "<Figure size 432x288 with 1 Axes>"
      ]
     },
     "metadata": {
      "needs_background": "light"
     },
     "output_type": "display_data"
    }
   ],
   "source": [
    "CP_env.create_animation(name=\"cart\")"
   ]
  },
  {
   "cell_type": "code",
   "execution_count": 985,
   "metadata": {},
   "outputs": [
    {
     "name": "stdout",
     "output_type": "stream",
     "text": [
      "67\n"
     ]
    }
   ],
   "source": [
    "rollout_hist = CP_env.ilqr.rollout_hist\n",
    "n_rol = len(rollout_hist)\n",
    "print(n_rol)"
   ]
  },
  {
   "cell_type": "code",
   "execution_count": 986,
   "metadata": {},
   "outputs": [
    {
     "name": "stdout",
     "output_type": "stream",
     "text": [
      "0\n",
      "15\n",
      "30\n",
      "45\n",
      "60\n"
     ]
    },
    {
     "data": {
      "image/png": "[encoded data removed]",
      "text/plain": [
       "<Figure size 432x288 with 1 Axes>"
      ]
     },
     "metadata": {
      "needs_background": "light"
     },
     "output_type": "display_data"
    },
    {
     "data": {
      "image/png": "[encoded data removed]",
      "text/plain": [
       "<Figure size 432x288 with 1 Axes>"
      ]
     },
     "metadata": {
      "needs_background": "light"
     },
     "output_type": "display_data"
    },
    {
     "data": {
      "image/png": "[encoded data removed]",
      "text/plain": [
       "<Figure size 432x288 with 1 Axes>"
      ]
     },
     "metadata": {
      "needs_background": "light"
     },
     "output_type": "display_data"
    },
    {
     "data": {
      "image/png": "[encoded data removed]",
      "text/plain": [
       "<Figure size 432x288 with 1 Axes>"
      ]
     },
     "metadata": {
      "needs_background": "light"
     },
     "output_type": "display_data"
    },
    {
     "data": {
      "image/png": "[encoded data removed]",
      "text/plain": [
       "<Figure size 432x288 with 1 Axes>"
      ]
     },
     "metadata": {
      "needs_background": "light"
     },
     "output_type": "display_data"
    }
   ],
   "source": [
    "for i in range(n_rol):\n",
    "    if i%15==0 :#and i <20:\n",
    "        print(i)\n",
    "        CP_env.create_animation(name=f\"cart_{i}\", x=rollout_hist[i])"
   ]
  },
  {
   "cell_type": "code",
   "execution_count": null,
   "metadata": {},
   "outputs": [],
   "source": []
  },
  {
   "cell_type": "markdown",
   "metadata": {
    "heading_collapsed": true
   },
   "source": [
    "## Unicycle"
   ]
  },
  {
   "cell_type": "code",
   "execution_count": 1548,
   "metadata": {
    "hidden": true
   },
   "outputs": [],
   "source": [
    "class UnicycleDynamics(Dynamics):\n",
    "    def __init__(self, dt):\n",
    "        \"\"\"\n",
    "        state (x,y,v,theta)\n",
    "        control (v, theta)\n",
    "        theta = 0 : towards x > 0\n",
    "        \"\"\"\n",
    "        self.dt = dt\n",
    "        super().__init__(state_dim=4, u_dim=2)\n",
    "        \n",
    "    \n",
    "    \n",
    "    def f(self, x, u):\n",
    "        v = x[2][0]\n",
    "        theta = x[3][0]\n",
    "        \n",
    "        dxdt = np.array([[v*np.cos(theta)], [v*np.sin(theta)], [0], [0]]) \\\n",
    "               + np.array([[0], [0], [u[0][0]], [u[1][0]]])\n",
    "        #dxdt = np.zeros((self.state_dim, self.u_dim))\n",
    "        #dxdt[2][0] = u[0][0]\n",
    "        #dxdt[3][1] = u[1][0]\n",
    "        return x + dxdt*self.dt\n",
    "    "
   ]
  },
  {
   "cell_type": "code",
   "execution_count": 1555,
   "metadata": {
    "hidden": true
   },
   "outputs": [],
   "source": [
    "class UnicycleEnv(Environment):\n",
    "    def __init__(self, dt):\n",
    "        super().__init__(dt, state_dim=4, u_dim=2)\n",
    "        self.dynamics = UnicycleDynamics(self.dt)\n",
    "    \n",
    "    def position(self,x):\n",
    "        position_x = [x[0][0]]\n",
    "        position_y = [x[2][0]]\n",
    "        return (position_x, position_y)\n",
    "        "
   ]
  },
  {
   "cell_type": "code",
   "execution_count": 1556,
   "metadata": {
    "hidden": true
   },
   "outputs": [
    {
     "name": "stdout",
     "output_type": "stream",
     "text": [
      "[[4]\n",
      " [3]\n",
      " [0]\n",
      " [0]] x0\n",
      "[[0]\n",
      " [0]\n",
      " [0]\n",
      " [0]] xf\n"
     ]
    }
   ],
   "source": [
    "dt = 0.1\n",
    "N = 100\n",
    "\n",
    "\n",
    "x0 = np.array([[4], #x\n",
    "               [3], #y\n",
    "               [0], #v\n",
    "               [0]])#theta\n",
    "xf = np.array([[0], \n",
    "               [0], \n",
    "               [0], \n",
    "               [0]])\n",
    "print(x0, \"x0\")\n",
    "print(xf, \"xf\")\n",
    "\n",
    "\n",
    "uni_env = UnicycleEnv(dt=dt)"
   ]
  },
  {
   "cell_type": "code",
   "execution_count": 1568,
   "metadata": {
    "hidden": true
   },
   "outputs": [
    {
     "name": "stdout",
     "output_type": "stream",
     "text": [
      "Initial cost: x0, u= 0, J =  1.25\n",
      "Last cost: x0, u= 0, J =  12.5\n",
      "**** 0-th Trajectory \n",
      "**** 5-th Trajectory \n",
      "**** 10-th Trajectory \n",
      "**** 15-th Trajectory \n",
      "Last Loss:  24.3278210629881\n"
     ]
    },
    {
     "data": {
      "image/png": "[encoded data removed]",
      "text/plain": [
       "<Figure size 864x216 with 3 Axes>"
      ]
     },
     "metadata": {
      "needs_background": "light"
     },
     "output_type": "display_data"
    }
   ],
   "source": [
    "uni_env.solve_iLQR(x0=x0,\n",
    "                  xf=xf,\n",
    "                  N=N,\n",
    "                  n_traj=20,\n",
    "                alpha_init=1,\n",
    "                 crit_alpha=10)\n",
    "\n",
    "\n",
    "plt.figure(figsize=(12,3))\n",
    "plt.subplot(131)\n",
    "uni_env.ilqr.plot_loss()\n",
    "plt.subplot(132)\n",
    "uni_env.ilqr.plot_u()\n",
    "plt.subplot(133)\n",
    "uni_env.ilqr.plot_x()"
   ]
  },
  {
   "cell_type": "code",
   "execution_count": 1558,
   "metadata": {
    "hidden": true
   },
   "outputs": [
    {
     "data": {
      "image/png": "[encoded data removed]",
      "text/plain": [
       "<Figure size 432x288 with 1 Axes>"
      ]
     },
     "metadata": {
      "needs_background": "light"
     },
     "output_type": "display_data"
    }
   ],
   "source": [
    "uni_env.create_animation(name=\"unicycle\")"
   ]
  },
  {
   "cell_type": "code",
   "execution_count": null,
   "metadata": {
    "hidden": true
   },
   "outputs": [],
   "source": []
  },
  {
   "cell_type": "code",
   "execution_count": null,
   "metadata": {
    "hidden": true
   },
   "outputs": [],
   "source": []
  },
  {
   "cell_type": "code",
   "execution_count": null,
   "metadata": {
    "hidden": true
   },
   "outputs": [],
   "source": []
  },
  {
   "cell_type": "code",
   "execution_count": null,
   "metadata": {
    "hidden": true
   },
   "outputs": [],
   "source": []
  },
  {
   "cell_type": "code",
   "execution_count": null,
   "metadata": {
    "hidden": true
   },
   "outputs": [],
   "source": []
  },
  {
   "cell_type": "code",
   "execution_count": 66,
   "metadata": {
    "hidden": true,
    "scrolled": true
   },
   "outputs": [
    {
     "data": {
      "image/png": "[encoded data removed]",
      "text/plain": [
       "<Figure size 720x720 with 2 Axes>"
      ]
     },
     "metadata": {
      "needs_background": "light"
     },
     "output_type": "display_data"
    }
   ],
   "source": [
    "x_h = [x0[0]]\n",
    "th_h = [x0[1]]\n",
    "cur_x = x0\n",
    "for i in range(N):\n",
    "    cur_xbar = cur_x - CartPoleEnv.x_lin\n",
    "    cur_xbar =  CartPoleEnv.linear_dynamics.next_state(cur_xbar , u_sequence[i])\n",
    "    cur_x = CartPoleEnv.x_lin + cur_xbar\n",
    "    x_h.append(cur_x[0])\n",
    "    th_h.append(cur_x[1])\n",
    "   # print(cur_x- CartPoleEnv.clqr.x[i])\n",
    "plt.figure(figsize=(10,10))\n",
    "plt.subplot(211)\n",
    "plt.plot(x_h)\n",
    "plt.plot(th_h)\n",
    "plt.subplot(212)\n",
    "CartPoleEnv.clqr.plot_x()"
   ]
  },
  {
   "cell_type": "code",
   "execution_count": 107,
   "metadata": {
    "hidden": true
   },
   "outputs": [
    {
     "data": {
      "image/png": "[encoded data removed]",
      "text/plain": [
       "<Figure size 720x720 with 2 Axes>"
      ]
     },
     "metadata": {
      "needs_background": "light"
     },
     "output_type": "display_data"
    }
   ],
   "source": [
    "x_h = [x0[0]]\n",
    "th_h = [x0[1]-np.pi]\n",
    "cur_x = x0 - CartPoleEnv.x_lin\n",
    "for i in range(N):\n",
    "    cur_x = CartPoleEnv.linear_dynamics.next_state(cur_x, u_sequence[i])\n",
    "    x_h.append(cur_x[0])\n",
    "    th_h.append(cur_x[1])\n",
    "   # print(cur_x- CartPoleEnv.clqr.x[i])\n",
    "plt.figure(figsize=(10,10))\n",
    "plt.subplot(211)\n",
    "plt.plot(x_h)\n",
    "plt.plot(th_h)\n",
    "plt.subplot(212)\n",
    "CartPoleEnv.clqr.plot_x()"
   ]
  },
  {
   "cell_type": "code",
   "execution_count": null,
   "metadata": {
    "hidden": true
   },
   "outputs": [],
   "source": [
    "\n",
    "    \n",
    "class OldCartPole:\n",
    "    def compute_linear_dynamics(self,):\n",
    "        \"\"\"\n",
    "        Compute linear dynamics, linearizing around the fixed, unstable pair\n",
    "        (x_lin = [0, \\pi, 0, 0], u_lin = 0)\n",
    "        \n",
    "        A and B are such that (x_{k+1}-x_lin) = A(x_k-x_lin) + B(u_k-u_lin)\n",
    "        \"\"\"\n",
    "        self.x_lin = np.array([[0],[np.pi],[0],[0]])\n",
    "        self.u_lin = 0\n",
    "        A = np.eye(self.state_dim) + self.dt* np.array([[0,0,1,0],\n",
    "                                                        [0,0,0,1],\n",
    "                                                [0, self.m*self.g/self.M, 0,0],\n",
    "                              [0, (self.m+self.M)*self.g/(self.l*self.M), 0,0]])\n",
    "        \n",
    "        B = self.dt* np.array([[0.],\n",
    "                                [0.],\n",
    "                              [1/self.M],\n",
    "                              [1/(self.l*self.M)]])\n",
    "        return A,B\n",
    "    \n",
    "    def solve_LQR(self, Q, R, goal, N, x0):\n",
    "        xbar_0 = x0 - self.x_lin\n",
    "        xbar_f = goal - self.x_lin\n",
    "        \n",
    "        cost = LQRCost(Q=Q, R=R, goal=xbar_f, N=N)\n",
    "        LP = LinearProblem(dynamics=self.linear_dynamics,\n",
    "                          cost=cost,\n",
    "                          dt=self.dt,\n",
    "                          x0=xbar_0)\n",
    "       \n",
    "        self.clqr = LQR(LP)\n",
    "        self.clqr.solve()\n",
    "        u_sequence = [ubar + self.u_lin for ubar in self.clqr.u]\n",
    "        return u_sequence\n",
    "    \n",
    "    \n",
    "\n",
    "\n",
    "    \n",
    "    def next_state(self, x, u):\n",
    "        \"\"\"\n",
    "        Compute next state without linear approx dynamics \n",
    "        x = x.flatten()\n",
    "        def dstate_dt_u(state, t):\n",
    "            dydx = self.dstate_dt(state, u)\n",
    "            return dydx\n",
    "        next_x = integrate.odeint(dstate_dt_u, x, [0, self.dt])[1]\n",
    "        return next_x.reshape(self.state_dim,1)\n",
    "        \"\"\"\n",
    "        xbar = x - self.x_lin\n",
    "        xbar_next = self.linear_dynamics.next_state(xbar,u)\n",
    "        return xbar_next + self.x_lin\n",
    "    "
   ]
  }
 ],
 "metadata": {
  "kernelspec": {
   "display_name": "Python 3",
   "language": "python",
   "name": "python3"
  },
  "language_info": {
   "codemirror_mode": {
    "name": "ipython",
    "version": 3
   },
   "file_extension": ".py",
   "mimetype": "text/x-python",
   "name": "python",
   "nbconvert_exporter": "python",
   "pygments_lexer": "ipython3",
   "version": "3.7.3"
  },
  "toc": {
   "base_numbering": 1,
   "nav_menu": {},
   "number_sections": true,
   "sideBar": true,
   "skip_h1_title": false,
   "title_cell": "Table of Contents",
   "title_sidebar": "Contents",
   "toc_cell": false,
   "toc_position": {
    "height": "580.833px",
    "left": "228px",
    "top": "109.8px",
    "width": "165px"
   },
   "toc_section_display": true,
   "toc_window_display": true
  }
 },
 "nbformat": 4,
 "nbformat_minor": 2
}
